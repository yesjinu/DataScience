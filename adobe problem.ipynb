{
 "cells": [
  {
   "cell_type": "code",
   "execution_count": 2,
   "metadata": {},
   "outputs": [
    {
     "data": {
      "text/html": [
       "<div>\n",
       "<style scoped>\n",
       "    .dataframe tbody tr th:only-of-type {\n",
       "        vertical-align: middle;\n",
       "    }\n",
       "\n",
       "    .dataframe tbody tr th {\n",
       "        vertical-align: top;\n",
       "    }\n",
       "\n",
       "    .dataframe thead th {\n",
       "        text-align: right;\n",
       "    }\n",
       "</style>\n",
       "<table border=\"1\" class=\"dataframe\">\n",
       "  <thead>\n",
       "    <tr style=\"text-align: right;\">\n",
       "      <th></th>\n",
       "      <th>company</th>\n",
       "      <th>year</th>\n",
       "      <th>race</th>\n",
       "      <th>gender</th>\n",
       "      <th>job_category</th>\n",
       "      <th>count</th>\n",
       "    </tr>\n",
       "  </thead>\n",
       "  <tbody>\n",
       "    <tr>\n",
       "      <td>0</td>\n",
       "      <td>23andMe</td>\n",
       "      <td>2016</td>\n",
       "      <td>Hispanic_or_Latino</td>\n",
       "      <td>male</td>\n",
       "      <td>Executives</td>\n",
       "      <td>0</td>\n",
       "    </tr>\n",
       "    <tr>\n",
       "      <td>1</td>\n",
       "      <td>23andMe</td>\n",
       "      <td>2016</td>\n",
       "      <td>Hispanic_or_Latino</td>\n",
       "      <td>male</td>\n",
       "      <td>Managers</td>\n",
       "      <td>1</td>\n",
       "    </tr>\n",
       "    <tr>\n",
       "      <td>2</td>\n",
       "      <td>23andMe</td>\n",
       "      <td>2016</td>\n",
       "      <td>Hispanic_or_Latino</td>\n",
       "      <td>male</td>\n",
       "      <td>Professionals</td>\n",
       "      <td>7</td>\n",
       "    </tr>\n",
       "    <tr>\n",
       "      <td>3</td>\n",
       "      <td>23andMe</td>\n",
       "      <td>2016</td>\n",
       "      <td>Hispanic_or_Latino</td>\n",
       "      <td>male</td>\n",
       "      <td>Technicians</td>\n",
       "      <td>0</td>\n",
       "    </tr>\n",
       "    <tr>\n",
       "      <td>4</td>\n",
       "      <td>23andMe</td>\n",
       "      <td>2016</td>\n",
       "      <td>Hispanic_or_Latino</td>\n",
       "      <td>male</td>\n",
       "      <td>Sales workers</td>\n",
       "      <td>0</td>\n",
       "    </tr>\n",
       "    <tr>\n",
       "      <td>...</td>\n",
       "      <td>...</td>\n",
       "      <td>...</td>\n",
       "      <td>...</td>\n",
       "      <td>...</td>\n",
       "      <td>...</td>\n",
       "      <td>...</td>\n",
       "    </tr>\n",
       "    <tr>\n",
       "      <td>4435</td>\n",
       "      <td>Sanmina</td>\n",
       "      <td>2016</td>\n",
       "      <td>Overall_totals</td>\n",
       "      <td>NaN</td>\n",
       "      <td>laborers and helpers</td>\n",
       "      <td>4</td>\n",
       "    </tr>\n",
       "    <tr>\n",
       "      <td>4436</td>\n",
       "      <td>Sanmina</td>\n",
       "      <td>2016</td>\n",
       "      <td>Overall_totals</td>\n",
       "      <td>NaN</td>\n",
       "      <td>Service workers</td>\n",
       "      <td>57</td>\n",
       "    </tr>\n",
       "    <tr>\n",
       "      <td>4437</td>\n",
       "      <td>Sanmina</td>\n",
       "      <td>2016</td>\n",
       "      <td>Overall_totals</td>\n",
       "      <td>NaN</td>\n",
       "      <td>Totals</td>\n",
       "      <td>5205</td>\n",
       "    </tr>\n",
       "    <tr>\n",
       "      <td>4438</td>\n",
       "      <td>Sanmina</td>\n",
       "      <td>2016</td>\n",
       "      <td>Overall_totals</td>\n",
       "      <td>NaN</td>\n",
       "      <td>Previous_totals</td>\n",
       "      <td>5615</td>\n",
       "    </tr>\n",
       "    <tr>\n",
       "      <td>4439</td>\n",
       "      <td>Sanmina</td>\n",
       "      <td>2016</td>\n",
       "      <td>Overall_totals</td>\n",
       "      <td>NaN</td>\n",
       "      <td>Managers</td>\n",
       "      <td>591</td>\n",
       "    </tr>\n",
       "  </tbody>\n",
       "</table>\n",
       "<p>4440 rows × 6 columns</p>\n",
       "</div>"
      ],
      "text/plain": [
       "      company  year                race gender          job_category  count\n",
       "0     23andMe  2016  Hispanic_or_Latino   male            Executives      0\n",
       "1     23andMe  2016  Hispanic_or_Latino   male              Managers      1\n",
       "2     23andMe  2016  Hispanic_or_Latino   male         Professionals      7\n",
       "3     23andMe  2016  Hispanic_or_Latino   male           Technicians      0\n",
       "4     23andMe  2016  Hispanic_or_Latino   male         Sales workers      0\n",
       "...       ...   ...                 ...    ...                   ...    ...\n",
       "4435  Sanmina  2016      Overall_totals    NaN  laborers and helpers      4\n",
       "4436  Sanmina  2016      Overall_totals    NaN       Service workers     57\n",
       "4437  Sanmina  2016      Overall_totals    NaN                Totals   5205\n",
       "4438  Sanmina  2016      Overall_totals    NaN       Previous_totals   5615\n",
       "4439  Sanmina  2016      Overall_totals    NaN              Managers    591\n",
       "\n",
       "[4440 rows x 6 columns]"
      ]
     },
     "execution_count": 2,
     "metadata": {},
     "output_type": "execute_result"
    }
   ],
   "source": [
    "%matplotlib inline\n",
    "import pandas as pd\n",
    "\n",
    "df = pd.read_csv('data/silicon_valley_details.csv')\n",
    "df"
   ]
  },
  {
   "cell_type": "code",
   "execution_count": 9,
   "metadata": {},
   "outputs": [
    {
     "data": {
      "text/html": [
       "<div>\n",
       "<style scoped>\n",
       "    .dataframe tbody tr th:only-of-type {\n",
       "        vertical-align: middle;\n",
       "    }\n",
       "\n",
       "    .dataframe tbody tr th {\n",
       "        vertical-align: top;\n",
       "    }\n",
       "\n",
       "    .dataframe thead th {\n",
       "        text-align: right;\n",
       "    }\n",
       "</style>\n",
       "<table border=\"1\" class=\"dataframe\">\n",
       "  <thead>\n",
       "    <tr style=\"text-align: right;\">\n",
       "      <th></th>\n",
       "      <th>company</th>\n",
       "      <th>year</th>\n",
       "      <th>race</th>\n",
       "      <th>gender</th>\n",
       "      <th>job_category</th>\n",
       "      <th>count</th>\n",
       "    </tr>\n",
       "  </thead>\n",
       "  <tbody>\n",
       "    <tr>\n",
       "      <td>333</td>\n",
       "      <td>Adobe</td>\n",
       "      <td>2016</td>\n",
       "      <td>Overall_totals</td>\n",
       "      <td>NaN</td>\n",
       "      <td>Executives</td>\n",
       "      <td>93</td>\n",
       "    </tr>\n",
       "    <tr>\n",
       "      <td>334</td>\n",
       "      <td>Adobe</td>\n",
       "      <td>2016</td>\n",
       "      <td>Overall_totals</td>\n",
       "      <td>NaN</td>\n",
       "      <td>Managers</td>\n",
       "      <td>2448</td>\n",
       "    </tr>\n",
       "    <tr>\n",
       "      <td>335</td>\n",
       "      <td>Adobe</td>\n",
       "      <td>2016</td>\n",
       "      <td>Overall_totals</td>\n",
       "      <td>NaN</td>\n",
       "      <td>Professionals</td>\n",
       "      <td>3028</td>\n",
       "    </tr>\n",
       "    <tr>\n",
       "      <td>337</td>\n",
       "      <td>Adobe</td>\n",
       "      <td>2016</td>\n",
       "      <td>Overall_totals</td>\n",
       "      <td>NaN</td>\n",
       "      <td>Sales workers</td>\n",
       "      <td>1270</td>\n",
       "    </tr>\n",
       "    <tr>\n",
       "      <td>338</td>\n",
       "      <td>Adobe</td>\n",
       "      <td>2016</td>\n",
       "      <td>Overall_totals</td>\n",
       "      <td>NaN</td>\n",
       "      <td>Administrative support</td>\n",
       "      <td>323</td>\n",
       "    </tr>\n",
       "  </tbody>\n",
       "</table>\n",
       "</div>"
      ],
      "text/plain": [
       "    company  year            race gender            job_category  count\n",
       "333   Adobe  2016  Overall_totals    NaN              Executives     93\n",
       "334   Adobe  2016  Overall_totals    NaN                Managers   2448\n",
       "335   Adobe  2016  Overall_totals    NaN           Professionals   3028\n",
       "337   Adobe  2016  Overall_totals    NaN           Sales workers   1270\n",
       "338   Adobe  2016  Overall_totals    NaN  Administrative support    323"
      ]
     },
     "execution_count": 9,
     "metadata": {},
     "output_type": "execute_result"
    }
   ],
   "source": [
    "con1 = df['race'] == 'Overall_totals'\n",
    "con2 = df['company'] == 'Adobe'\n",
    "con3 = df['count'] != 0\n",
    "con4 = (df['job_category'] != 'Totals') & (df['job_category'] != 'Previous_totals') \n",
    "\n",
    "sample = df.loc[con1 & con2 & con3 & con4]\n",
    "sample"
   ]
  },
  {
   "cell_type": "code",
   "execution_count": 10,
   "metadata": {},
   "outputs": [
    {
     "data": {
      "text/plain": [
       "<matplotlib.axes._subplots.AxesSubplot at 0x2e16bb78148>"
      ]
     },
     "execution_count": 10,
     "metadata": {},
     "output_type": "execute_result"
    },
    {
     "data": {
      "image/png": "[encoded data removed]",
      "text/plain": [
       "<Figure size 432x288 with 1 Axes>"
      ]
     },
     "metadata": {},
     "output_type": "display_data"
    }
   ],
   "source": [
    "sample.plot(kind = 'pie', y = 'count')"
   ]
  },
  {
   "cell_type": "code",
   "execution_count": 12,
   "metadata": {},
   "outputs": [],
   "source": [
    "sample.set_index('job_category', inplace = True)"
   ]
  },
  {
   "cell_type": "code",
   "execution_count": 13,
   "metadata": {},
   "outputs": [
    {
     "data": {
      "text/plain": [
       "<matplotlib.axes._subplots.AxesSubplot at 0x2e16bbeeec8>"
      ]
     },
     "execution_count": 13,
     "metadata": {},
     "output_type": "execute_result"
    },
    {
     "data": {
      "image/png": "[encoded data removed]",
      "text/plain": [
       "<Figure size 432x288 with 1 Axes>"
      ]
     },
     "metadata": {},
     "output_type": "display_data"
    }
   ],
   "source": [
    "sample.plot(kind = 'pie', y = 'count')"
   ]
  },
  {
   "cell_type": "code",
   "execution_count": null,
   "metadata": {},
   "outputs": [],
   "source": []
  }
 ],
 "metadata": {
  "kernelspec": {
   "display_name": "Python 3",
   "language": "python",
   "name": "python3"
  },
  "language_info": {
   "codemirror_mode": {
    "name": "ipython",
    "version": 3
   },
   "file_extension": ".py",
   "mimetype": "text/x-python",
   "name": "python",
   "nbconvert_exporter": "python",
   "pygments_lexer": "ipython3",
   "version": "3.7.4"
  }
 },
 "nbformat": 4,
 "nbformat_minor": 2
}
